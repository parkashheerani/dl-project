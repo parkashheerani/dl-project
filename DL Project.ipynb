{
 "cells": [
  {
   "cell_type": "code",
   "execution_count": null,
   "id": "13b8b5d4",
   "metadata": {},
   "outputs": [],
   "source": []
  },
  {
   "cell_type": "code",
   "execution_count": 6,
   "id": "99c2b7a2",
   "metadata": {},
   "outputs": [],
   "source": [
    "import os\n",
    "import pandas as pd\n",
    "\n",
    "def create_dataframe(folder_path, label):\n",
    "    articles = []\n",
    "    labels = []\n",
    "    for file_name in os.listdir(folder_path):\n",
    "        with open(os.path.join(folder_path, file_name), 'r') as file:\n",
    "            articles.append(file.read())\n",
    "            labels.append(label)\n",
    "    df = pd.DataFrame({'news': articles, 'label': labels})\n",
    "    return df\n",
    "\n",
    "# Paths to the folders\n",
    "train_real_path = 'data/Train/Real'\n",
    "train_fake_path = 'data/Train/Fake'\n",
    "test_real_path = 'data/Test/Real'\n",
    "test_fake_path = 'data/Test/Fake'\n",
    "\n",
    "# Creating dataframes\n",
    "train_real_df = create_dataframe(train_real_path, 0)  # 0 for real news\n",
    "train_fake_df = create_dataframe(train_fake_path, 1)  # 1 for fake news\n",
    "test_real_df = create_dataframe(test_real_path, 0)\n",
    "test_fake_df = create_dataframe(test_fake_path, 1)\n",
    "\n",
    "# Combining train and test dataframes\n",
    "train_df = pd.concat([train_real_df, train_fake_df], ignore_index=True)\n",
    "test_df = pd.concat([test_real_df, test_fake_df], ignore_index=True)\n",
    "\n"
   ]
  },
  {
   "cell_type": "code",
   "execution_count": null,
   "id": "c18667dd",
   "metadata": {},
   "outputs": [],
   "source": []
  },
  {
   "cell_type": "code",
   "execution_count": null,
   "id": "0945e0e9",
   "metadata": {},
   "outputs": [],
   "source": []
  }
 ],
 "metadata": {
  "kernelspec": {
   "display_name": "Python 3 (ipykernel)",
   "language": "python",
   "name": "python3"
  },
  "language_info": {
   "codemirror_mode": {
    "name": "ipython",
    "version": 3
   },
   "file_extension": ".py",
   "mimetype": "text/x-python",
   "name": "python",
   "nbconvert_exporter": "python",
   "pygments_lexer": "ipython3",
   "version": "3.10.9"
  }
 },
 "nbformat": 4,
 "nbformat_minor": 5
}
